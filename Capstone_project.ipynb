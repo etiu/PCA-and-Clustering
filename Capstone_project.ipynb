{
 "cells": [
  {
   "cell_type": "code",
   "execution_count": 1,
   "id": "f6b8a414",
   "metadata": {},
   "outputs": [],
   "source": [
    "import pandas as pd\n",
    "import numpy as np\n",
    "\n",
    "import matplotlib.pyplot as plt\n",
    "%matplotlib inline\n",
    "\n",
    "import seaborn as sns\n"
   ]
  },
  {
   "cell_type": "code",
   "execution_count": 2,
   "id": "e6f3ebc2",
   "metadata": {},
   "outputs": [],
   "source": [
    "df = pd.read_csv('UsArrests.csv')"
   ]
  },
  {
   "cell_type": "code",
   "execution_count": 3,
   "id": "c3f396a0",
   "metadata": {},
   "outputs": [
    {
     "data": {
      "text/html": [
       "<div>\n",
       "<style scoped>\n",
       "    .dataframe tbody tr th:only-of-type {\n",
       "        vertical-align: middle;\n",
       "    }\n",
       "\n",
       "    .dataframe tbody tr th {\n",
       "        vertical-align: top;\n",
       "    }\n",
       "\n",
       "    .dataframe thead th {\n",
       "        text-align: right;\n",
       "    }\n",
       "</style>\n",
       "<table border=\"1\" class=\"dataframe\">\n",
       "  <thead>\n",
       "    <tr style=\"text-align: right;\">\n",
       "      <th></th>\n",
       "      <th>City</th>\n",
       "      <th>Murder</th>\n",
       "      <th>Assault</th>\n",
       "      <th>UrbanPop</th>\n",
       "      <th>Rape</th>\n",
       "    </tr>\n",
       "  </thead>\n",
       "  <tbody>\n",
       "    <tr>\n",
       "      <th>0</th>\n",
       "      <td>Alabama</td>\n",
       "      <td>13.2</td>\n",
       "      <td>236</td>\n",
       "      <td>58</td>\n",
       "      <td>21.2</td>\n",
       "    </tr>\n",
       "    <tr>\n",
       "      <th>1</th>\n",
       "      <td>Alaska</td>\n",
       "      <td>10.0</td>\n",
       "      <td>263</td>\n",
       "      <td>48</td>\n",
       "      <td>44.5</td>\n",
       "    </tr>\n",
       "    <tr>\n",
       "      <th>2</th>\n",
       "      <td>Arizona</td>\n",
       "      <td>8.1</td>\n",
       "      <td>294</td>\n",
       "      <td>80</td>\n",
       "      <td>31.0</td>\n",
       "    </tr>\n",
       "    <tr>\n",
       "      <th>3</th>\n",
       "      <td>Arkansas</td>\n",
       "      <td>8.8</td>\n",
       "      <td>190</td>\n",
       "      <td>50</td>\n",
       "      <td>19.5</td>\n",
       "    </tr>\n",
       "    <tr>\n",
       "      <th>4</th>\n",
       "      <td>California</td>\n",
       "      <td>9.0</td>\n",
       "      <td>276</td>\n",
       "      <td>91</td>\n",
       "      <td>40.6</td>\n",
       "    </tr>\n",
       "  </tbody>\n",
       "</table>\n",
       "</div>"
      ],
      "text/plain": [
       "         City  Murder  Assault  UrbanPop  Rape\n",
       "0     Alabama    13.2      236        58  21.2\n",
       "1      Alaska    10.0      263        48  44.5\n",
       "2     Arizona     8.1      294        80  31.0\n",
       "3    Arkansas     8.8      190        50  19.5\n",
       "4  California     9.0      276        91  40.6"
      ]
     },
     "execution_count": 3,
     "metadata": {},
     "output_type": "execute_result"
    }
   ],
   "source": [
    "df.head()"
   ]
  },
  {
   "cell_type": "code",
   "execution_count": 4,
   "id": "2bbe0595",
   "metadata": {},
   "outputs": [
    {
     "data": {
      "text/plain": [
       "(50, 5)"
      ]
     },
     "execution_count": 4,
     "metadata": {},
     "output_type": "execute_result"
    }
   ],
   "source": [
    "df.shape #df is a small dataset"
   ]
  },
  {
   "cell_type": "code",
   "execution_count": 5,
   "id": "783e827e",
   "metadata": {},
   "outputs": [
    {
     "data": {
      "text/plain": [
       "City        0\n",
       "Murder      0\n",
       "Assault     0\n",
       "UrbanPop    0\n",
       "Rape        0\n",
       "dtype: int64"
      ]
     },
     "execution_count": 5,
     "metadata": {},
     "output_type": "execute_result"
    }
   ],
   "source": [
    "df.isnull().sum() #no missing values"
   ]
  },
  {
   "cell_type": "code",
   "execution_count": 6,
   "id": "c1716d8e",
   "metadata": {},
   "outputs": [
    {
     "name": "stdout",
     "output_type": "stream",
     "text": [
      "<class 'pandas.core.frame.DataFrame'>\n",
      "RangeIndex: 50 entries, 0 to 49\n",
      "Data columns (total 5 columns):\n",
      " #   Column    Non-Null Count  Dtype  \n",
      "---  ------    --------------  -----  \n",
      " 0   City      50 non-null     object \n",
      " 1   Murder    50 non-null     float64\n",
      " 2   Assault   50 non-null     int64  \n",
      " 3   UrbanPop  50 non-null     int64  \n",
      " 4   Rape      50 non-null     float64\n",
      "dtypes: float64(2), int64(2), object(1)\n",
      "memory usage: 2.1+ KB\n"
     ]
    }
   ],
   "source": [
    "df.info()"
   ]
  },
  {
   "cell_type": "code",
   "execution_count": 7,
   "id": "9efdf9d8",
   "metadata": {},
   "outputs": [
    {
     "data": {
      "text/plain": [
       "Index(['City', 'Murder', 'Assault', 'UrbanPop', 'Rape'], dtype='object')"
      ]
     },
     "execution_count": 7,
     "metadata": {},
     "output_type": "execute_result"
    }
   ],
   "source": [
    "df.columns"
   ]
  },
  {
   "cell_type": "code",
   "execution_count": 8,
   "id": "4021292b",
   "metadata": {},
   "outputs": [
    {
     "data": {
      "text/html": [
       "<div>\n",
       "<style scoped>\n",
       "    .dataframe tbody tr th:only-of-type {\n",
       "        vertical-align: middle;\n",
       "    }\n",
       "\n",
       "    .dataframe tbody tr th {\n",
       "        vertical-align: top;\n",
       "    }\n",
       "\n",
       "    .dataframe thead th {\n",
       "        text-align: right;\n",
       "    }\n",
       "</style>\n",
       "<table border=\"1\" class=\"dataframe\">\n",
       "  <thead>\n",
       "    <tr style=\"text-align: right;\">\n",
       "      <th></th>\n",
       "      <th>Murder</th>\n",
       "      <th>Assault</th>\n",
       "      <th>UrbanPop</th>\n",
       "      <th>Rape</th>\n",
       "    </tr>\n",
       "  </thead>\n",
       "  <tbody>\n",
       "    <tr>\n",
       "      <th>count</th>\n",
       "      <td>50.00000</td>\n",
       "      <td>50.000000</td>\n",
       "      <td>50.000000</td>\n",
       "      <td>50.000000</td>\n",
       "    </tr>\n",
       "    <tr>\n",
       "      <th>mean</th>\n",
       "      <td>7.78800</td>\n",
       "      <td>170.760000</td>\n",
       "      <td>65.540000</td>\n",
       "      <td>21.232000</td>\n",
       "    </tr>\n",
       "    <tr>\n",
       "      <th>std</th>\n",
       "      <td>4.35551</td>\n",
       "      <td>83.337661</td>\n",
       "      <td>14.474763</td>\n",
       "      <td>9.366385</td>\n",
       "    </tr>\n",
       "    <tr>\n",
       "      <th>min</th>\n",
       "      <td>0.80000</td>\n",
       "      <td>45.000000</td>\n",
       "      <td>32.000000</td>\n",
       "      <td>7.300000</td>\n",
       "    </tr>\n",
       "    <tr>\n",
       "      <th>25%</th>\n",
       "      <td>4.07500</td>\n",
       "      <td>109.000000</td>\n",
       "      <td>54.500000</td>\n",
       "      <td>15.075000</td>\n",
       "    </tr>\n",
       "    <tr>\n",
       "      <th>50%</th>\n",
       "      <td>7.25000</td>\n",
       "      <td>159.000000</td>\n",
       "      <td>66.000000</td>\n",
       "      <td>20.100000</td>\n",
       "    </tr>\n",
       "    <tr>\n",
       "      <th>75%</th>\n",
       "      <td>11.25000</td>\n",
       "      <td>249.000000</td>\n",
       "      <td>77.750000</td>\n",
       "      <td>26.175000</td>\n",
       "    </tr>\n",
       "    <tr>\n",
       "      <th>max</th>\n",
       "      <td>17.40000</td>\n",
       "      <td>337.000000</td>\n",
       "      <td>91.000000</td>\n",
       "      <td>46.000000</td>\n",
       "    </tr>\n",
       "  </tbody>\n",
       "</table>\n",
       "</div>"
      ],
      "text/plain": [
       "         Murder     Assault   UrbanPop       Rape\n",
       "count  50.00000   50.000000  50.000000  50.000000\n",
       "mean    7.78800  170.760000  65.540000  21.232000\n",
       "std     4.35551   83.337661  14.474763   9.366385\n",
       "min     0.80000   45.000000  32.000000   7.300000\n",
       "25%     4.07500  109.000000  54.500000  15.075000\n",
       "50%     7.25000  159.000000  66.000000  20.100000\n",
       "75%    11.25000  249.000000  77.750000  26.175000\n",
       "max    17.40000  337.000000  91.000000  46.000000"
      ]
     },
     "execution_count": 8,
     "metadata": {},
     "output_type": "execute_result"
    }
   ],
   "source": [
    "df.describe()"
   ]
  },
  {
   "cell_type": "code",
   "execution_count": 9,
   "id": "cecfc8d5",
   "metadata": {},
   "outputs": [
    {
     "data": {
      "text/plain": [
       "City        0\n",
       "Murder      0\n",
       "Assault     0\n",
       "UrbanPop    0\n",
       "Rape        0\n",
       "dtype: int64"
      ]
     },
     "execution_count": 9,
     "metadata": {},
     "output_type": "execute_result"
    }
   ],
   "source": [
    "df.isnull().sum()"
   ]
  },
  {
   "cell_type": "code",
   "execution_count": 10,
   "id": "c1de54f7",
   "metadata": {},
   "outputs": [
    {
     "name": "stdout",
     "output_type": "stream",
     "text": [
      "<class 'pandas.core.frame.DataFrame'>\n",
      "RangeIndex: 50 entries, 0 to 49\n",
      "Data columns (total 5 columns):\n",
      " #   Column    Non-Null Count  Dtype  \n",
      "---  ------    --------------  -----  \n",
      " 0   City      50 non-null     object \n",
      " 1   Murder    50 non-null     float64\n",
      " 2   Assault   50 non-null     int64  \n",
      " 3   UrbanPop  50 non-null     int64  \n",
      " 4   Rape      50 non-null     float64\n",
      "dtypes: float64(2), int64(2), object(1)\n",
      "memory usage: 2.1+ KB\n"
     ]
    }
   ],
   "source": [
    "# Examine types\n",
    "df.info()"
   ]
  },
  {
   "cell_type": "code",
   "execution_count": 11,
   "id": "a1119291",
   "metadata": {},
   "outputs": [
    {
     "data": {
      "image/png": "[encoded data removed]",
      "text/plain": [
       "<Figure size 1500x1000 with 4 Axes>"
      ]
     },
     "metadata": {},
     "output_type": "display_data"
    }
   ],
   "source": [
    "df.hist(grid = False, figsize=(15, 10));"
   ]
  },
  {
   "cell_type": "markdown",
   "id": "87c9885d",
   "metadata": {},
   "source": [
    "# Correlation Analysis"
   ]
  },
  {
   "cell_type": "code",
   "execution_count": 12,
   "id": "237174e7",
   "metadata": {},
   "outputs": [],
   "source": [
    "countries = df.index\n",
    "corr_df = df.drop([\"City\"],axis=1).corr()\n",
    "labels =corr_df.columns\n",
    "\n",
    "correlations = corr_df.corr()"
   ]
  },
  {
   "cell_type": "code",
   "execution_count": 13,
   "id": "4ece269e",
   "metadata": {},
   "outputs": [
    {
     "data": {
      "text/plain": [
       "<AxesSubplot:>"
      ]
     },
     "execution_count": 13,
     "metadata": {},
     "output_type": "execute_result"
    },
    {
     "data": {
      "image/png": "[encoded data removed]",
      "text/plain": [
       "<Figure size 640x480 with 2 Axes>"
      ]
     },
     "metadata": {},
     "output_type": "display_data"
    }
   ],
   "source": [
    "sns.heatmap(corr_df, annot = True, cmap=\"coolwarm\")"
   ]
  },
  {
   "cell_type": "markdown",
   "id": "b1c8bdb3",
   "metadata": {},
   "source": [
    "From the correlation matrix, there seems to be a lot of correlations so this data set is a good candidate for PCA."
   ]
  },
  {
   "cell_type": "markdown",
   "id": "5e54610a",
   "metadata": {},
   "source": [
    "\n",
    "# PCA"
   ]
  },
  {
   "cell_type": "code",
   "execution_count": 106,
   "id": "2321c998",
   "metadata": {},
   "outputs": [
    {
     "data": {
      "text/html": [
       "<div>\n",
       "<style scoped>\n",
       "    .dataframe tbody tr th:only-of-type {\n",
       "        vertical-align: middle;\n",
       "    }\n",
       "\n",
       "    .dataframe tbody tr th {\n",
       "        vertical-align: top;\n",
       "    }\n",
       "\n",
       "    .dataframe thead th {\n",
       "        text-align: right;\n",
       "    }\n",
       "</style>\n",
       "<table border=\"1\" class=\"dataframe\">\n",
       "  <thead>\n",
       "    <tr style=\"text-align: right;\">\n",
       "      <th></th>\n",
       "      <th>0</th>\n",
       "      <th>1</th>\n",
       "      <th>2</th>\n",
       "      <th>3</th>\n",
       "    </tr>\n",
       "  </thead>\n",
       "  <tbody>\n",
       "    <tr>\n",
       "      <th>0</th>\n",
       "      <td>64.802164</td>\n",
       "      <td>11.448007</td>\n",
       "      <td>-2.494933</td>\n",
       "      <td>2.407901</td>\n",
       "    </tr>\n",
       "    <tr>\n",
       "      <th>1</th>\n",
       "      <td>92.827450</td>\n",
       "      <td>17.982943</td>\n",
       "      <td>20.126575</td>\n",
       "      <td>-4.094047</td>\n",
       "    </tr>\n",
       "    <tr>\n",
       "      <th>2</th>\n",
       "      <td>124.068216</td>\n",
       "      <td>-8.830403</td>\n",
       "      <td>-1.687448</td>\n",
       "      <td>-4.353685</td>\n",
       "    </tr>\n",
       "    <tr>\n",
       "      <th>3</th>\n",
       "      <td>18.340035</td>\n",
       "      <td>16.703911</td>\n",
       "      <td>0.210189</td>\n",
       "      <td>-0.520994</td>\n",
       "    </tr>\n",
       "    <tr>\n",
       "      <th>4</th>\n",
       "      <td>107.422953</td>\n",
       "      <td>-22.520070</td>\n",
       "      <td>6.745873</td>\n",
       "      <td>-2.811826</td>\n",
       "    </tr>\n",
       "  </tbody>\n",
       "</table>\n",
       "</div>"
      ],
      "text/plain": [
       "            0          1          2         3\n",
       "0   64.802164  11.448007  -2.494933  2.407901\n",
       "1   92.827450  17.982943  20.126575 -4.094047\n",
       "2  124.068216  -8.830403  -1.687448 -4.353685\n",
       "3   18.340035  16.703911   0.210189 -0.520994\n",
       "4  107.422953 -22.520070   6.745873 -2.811826"
      ]
     },
     "execution_count": 106,
     "metadata": {},
     "output_type": "execute_result"
    }
   ],
   "source": [
    "from sklearn.decomposition import PCA\n",
    "\n",
    "X = df.drop([\"City\"],axis=1).values\n",
    "\n",
    "pca = PCA()\n",
    "\n",
    "X_trans = pca.fit_transform(X)\n",
    "\n",
    "df_pca = pd.DataFrame(X_trans)\n",
    "df_pca.head()"
   ]
  },
  {
   "cell_type": "code",
   "execution_count": 15,
   "id": "4aad6d70",
   "metadata": {},
   "outputs": [
    {
     "data": {
      "text/html": [
       "<div>\n",
       "<style scoped>\n",
       "    .dataframe tbody tr th:only-of-type {\n",
       "        vertical-align: middle;\n",
       "    }\n",
       "\n",
       "    .dataframe tbody tr th {\n",
       "        vertical-align: top;\n",
       "    }\n",
       "\n",
       "    .dataframe thead th {\n",
       "        text-align: right;\n",
       "    }\n",
       "</style>\n",
       "<table border=\"1\" class=\"dataframe\">\n",
       "  <thead>\n",
       "    <tr style=\"text-align: right;\">\n",
       "      <th></th>\n",
       "      <th>Features</th>\n",
       "      <th>PC1 Importance</th>\n",
       "      <th>PC2 Importance</th>\n",
       "    </tr>\n",
       "  </thead>\n",
       "  <tbody>\n",
       "    <tr>\n",
       "      <th>0</th>\n",
       "      <td>Murder</td>\n",
       "      <td>0.041704</td>\n",
       "      <td>0.044822</td>\n",
       "    </tr>\n",
       "    <tr>\n",
       "      <th>1</th>\n",
       "      <td>Assault</td>\n",
       "      <td>0.995221</td>\n",
       "      <td>0.058760</td>\n",
       "    </tr>\n",
       "    <tr>\n",
       "      <th>2</th>\n",
       "      <td>UrbanPop</td>\n",
       "      <td>0.046336</td>\n",
       "      <td>0.976857</td>\n",
       "    </tr>\n",
       "    <tr>\n",
       "      <th>3</th>\n",
       "      <td>Rape</td>\n",
       "      <td>0.075156</td>\n",
       "      <td>0.200718</td>\n",
       "    </tr>\n",
       "  </tbody>\n",
       "</table>\n",
       "</div>"
      ],
      "text/plain": [
       "   Features  PC1 Importance  PC2 Importance\n",
       "0    Murder        0.041704        0.044822\n",
       "1   Assault        0.995221        0.058760\n",
       "2  UrbanPop        0.046336        0.976857\n",
       "3      Rape        0.075156        0.200718"
      ]
     },
     "execution_count": 15,
     "metadata": {},
     "output_type": "execute_result"
    }
   ],
   "source": [
    "# Feature importance\n",
    "#pd.set_option('display.float_format', lambda x: '%.3f' % x) #change precision to see more decimal places\n",
    "\n",
    "pc1 = abs( pca.components_[0] ) #components x features - access at index 0 to get the first component\n",
    "pc2 = abs( pca.components_[1] )\n",
    "\n",
    "feat_df = pd.DataFrame()\n",
    "feat_df[\"Features\"] = list(labels)\n",
    "feat_df[\"PC1 Importance\"] = pc1\n",
    "feat_df[\"PC2 Importance\"] = pc2\n",
    "feat_df"
   ]
  },
  {
   "cell_type": "markdown",
   "id": "e9385232",
   "metadata": {},
   "source": [
    "From this table, it seems the most important feature for principal component 1 is Assault. However, this is clearly because the data was not standardized and the values in assault are higher relative to other features."
   ]
  },
  {
   "cell_type": "markdown",
   "id": "d5451c1b",
   "metadata": {},
   "source": [
    "# Standardise it!"
   ]
  },
  {
   "cell_type": "code",
   "execution_count": 166,
   "id": "3e609643",
   "metadata": {},
   "outputs": [],
   "source": [
    "from sklearn.preprocessing import StandardScaler\n",
    "X_std = StandardScaler().fit_transform(X)"
   ]
  },
  {
   "cell_type": "code",
   "execution_count": 165,
   "id": "4f4d92d4",
   "metadata": {},
   "outputs": [
    {
     "data": {
      "text/html": [
       "<div>\n",
       "<style scoped>\n",
       "    .dataframe tbody tr th:only-of-type {\n",
       "        vertical-align: middle;\n",
       "    }\n",
       "\n",
       "    .dataframe tbody tr th {\n",
       "        vertical-align: top;\n",
       "    }\n",
       "\n",
       "    .dataframe thead th {\n",
       "        text-align: right;\n",
       "    }\n",
       "</style>\n",
       "<table border=\"1\" class=\"dataframe\">\n",
       "  <thead>\n",
       "    <tr style=\"text-align: right;\">\n",
       "      <th></th>\n",
       "      <th>0</th>\n",
       "      <th>1</th>\n",
       "      <th>2</th>\n",
       "      <th>3</th>\n",
       "    </tr>\n",
       "  </thead>\n",
       "  <tbody>\n",
       "    <tr>\n",
       "      <th>0</th>\n",
       "      <td>0.985566</td>\n",
       "      <td>1.133392</td>\n",
       "      <td>-0.444269</td>\n",
       "      <td>0.156267</td>\n",
       "    </tr>\n",
       "    <tr>\n",
       "      <th>1</th>\n",
       "      <td>1.950138</td>\n",
       "      <td>1.073213</td>\n",
       "      <td>2.040003</td>\n",
       "      <td>-0.438583</td>\n",
       "    </tr>\n",
       "    <tr>\n",
       "      <th>2</th>\n",
       "      <td>1.763164</td>\n",
       "      <td>-0.745957</td>\n",
       "      <td>0.054781</td>\n",
       "      <td>-0.834653</td>\n",
       "    </tr>\n",
       "    <tr>\n",
       "      <th>3</th>\n",
       "      <td>-0.141420</td>\n",
       "      <td>1.119797</td>\n",
       "      <td>0.114574</td>\n",
       "      <td>-0.182811</td>\n",
       "    </tr>\n",
       "    <tr>\n",
       "      <th>4</th>\n",
       "      <td>2.523980</td>\n",
       "      <td>-1.542934</td>\n",
       "      <td>0.598557</td>\n",
       "      <td>-0.341996</td>\n",
       "    </tr>\n",
       "  </tbody>\n",
       "</table>\n",
       "</div>"
      ],
      "text/plain": [
       "          0         1         2         3\n",
       "0  0.985566  1.133392 -0.444269  0.156267\n",
       "1  1.950138  1.073213  2.040003 -0.438583\n",
       "2  1.763164 -0.745957  0.054781 -0.834653\n",
       "3 -0.141420  1.119797  0.114574 -0.182811\n",
       "4  2.523980 -1.542934  0.598557 -0.341996"
      ]
     },
     "execution_count": 165,
     "metadata": {},
     "output_type": "execute_result"
    }
   ],
   "source": [
    "std_pca = PCA()\n",
    "X_std_trans = std_pca.fit_transform(X_std)\n",
    "\n",
    "df_std_pca = pd.DataFrame(X_std_trans)\n",
    "df_std_pca.head()"
   ]
  },
  {
   "cell_type": "code",
   "execution_count": 17,
   "id": "e1485d08",
   "metadata": {},
   "outputs": [
    {
     "data": {
      "text/html": [
       "<div>\n",
       "<style scoped>\n",
       "    .dataframe tbody tr th:only-of-type {\n",
       "        vertical-align: middle;\n",
       "    }\n",
       "\n",
       "    .dataframe tbody tr th {\n",
       "        vertical-align: top;\n",
       "    }\n",
       "\n",
       "    .dataframe thead th {\n",
       "        text-align: right;\n",
       "    }\n",
       "</style>\n",
       "<table border=\"1\" class=\"dataframe\">\n",
       "  <thead>\n",
       "    <tr style=\"text-align: right;\">\n",
       "      <th></th>\n",
       "      <th>Features</th>\n",
       "      <th>PC1 Importance</th>\n",
       "      <th>PC2 Importance</th>\n",
       "    </tr>\n",
       "  </thead>\n",
       "  <tbody>\n",
       "    <tr>\n",
       "      <th>0</th>\n",
       "      <td>Murder</td>\n",
       "      <td>0.535899</td>\n",
       "      <td>0.418181</td>\n",
       "    </tr>\n",
       "    <tr>\n",
       "      <th>1</th>\n",
       "      <td>Assault</td>\n",
       "      <td>0.583184</td>\n",
       "      <td>0.187986</td>\n",
       "    </tr>\n",
       "    <tr>\n",
       "      <th>2</th>\n",
       "      <td>UrbanPop</td>\n",
       "      <td>0.278191</td>\n",
       "      <td>0.872806</td>\n",
       "    </tr>\n",
       "    <tr>\n",
       "      <th>3</th>\n",
       "      <td>Rape</td>\n",
       "      <td>0.543432</td>\n",
       "      <td>0.167319</td>\n",
       "    </tr>\n",
       "  </tbody>\n",
       "</table>\n",
       "</div>"
      ],
      "text/plain": [
       "   Features  PC1 Importance  PC2 Importance\n",
       "0    Murder        0.535899        0.418181\n",
       "1   Assault        0.583184        0.187986\n",
       "2  UrbanPop        0.278191        0.872806\n",
       "3      Rape        0.543432        0.167319"
      ]
     },
     "execution_count": 17,
     "metadata": {},
     "output_type": "execute_result"
    }
   ],
   "source": [
    "# Feature importance\n",
    "\n",
    "pc1 = abs( std_pca.components_[0] ) #components x features - access at index 0 to get the first component\n",
    "pc2 = abs( std_pca.components_[1] )\n",
    "\n",
    "feat_df = pd.DataFrame()\n",
    "feat_df[\"Features\"] = list(labels)\n",
    "feat_df[\"PC1 Importance\"] = pc1\n",
    "feat_df[\"PC2 Importance\"] = pc2\n",
    "feat_df"
   ]
  },
  {
   "cell_type": "markdown",
   "id": "05dca18b",
   "metadata": {},
   "source": [
    "After standardisation of data, the feature importances of the 4 features are looking more balanced."
   ]
  },
  {
   "cell_type": "code",
   "execution_count": 18,
   "id": "6d3aadab",
   "metadata": {},
   "outputs": [
    {
     "data": {
      "text/plain": [
       "Text(0.5, 1.0, 'Cumulative Explained Variance')"
      ]
     },
     "execution_count": 18,
     "metadata": {},
     "output_type": "execute_result"
    },
    {
     "data": {
      "image/png": "[encoded data removed]",
      "text/plain": [
       "<Figure size 640x480 with 1 Axes>"
      ]
     },
     "metadata": {},
     "output_type": "display_data"
    }
   ],
   "source": [
    "# Cumulative variance plot\n",
    "plt.ylabel('Explained variance')\n",
    "plt.xlabel('Components')\n",
    "plt.plot(range(1,len(std_pca.explained_variance_ratio_ )+1),\n",
    "         np.cumsum(std_pca.explained_variance_ratio_),\n",
    "         c='red', marker = 'o')\n",
    "plt.title(\"Cumulative Explained Variance\")"
   ]
  },
  {
   "cell_type": "code",
   "execution_count": 19,
   "id": "eddebea3",
   "metadata": {},
   "outputs": [
    {
     "data": {
      "image/png": "[encoded data removed]",
      "text/plain": [
       "<Figure size 640x480 with 1 Axes>"
      ]
     },
     "metadata": {},
     "output_type": "display_data"
    }
   ],
   "source": [
    "# Scree plot\n",
    "plt.plot(std_pca.explained_variance_ratio_, marker = 'o')\n",
    "plt.xlabel('number of components')\n",
    "plt.ylabel('cumulative explained variance')\n",
    "plt.title(\"Scree plot\")\n",
    "plt.show()"
   ]
  },
  {
   "cell_type": "markdown",
   "id": "9461973d",
   "metadata": {},
   "source": [
    "Plotting scree plot, it seems that 3 components explain the variance of the data fully, so it will be optimal to use n_components = 3 for our PCA."
   ]
  },
  {
   "cell_type": "code",
   "execution_count": 167,
   "id": "de28cfa1",
   "metadata": {},
   "outputs": [
    {
     "data": {
      "text/html": [
       "<div>\n",
       "<style scoped>\n",
       "    .dataframe tbody tr th:only-of-type {\n",
       "        vertical-align: middle;\n",
       "    }\n",
       "\n",
       "    .dataframe tbody tr th {\n",
       "        vertical-align: top;\n",
       "    }\n",
       "\n",
       "    .dataframe thead th {\n",
       "        text-align: right;\n",
       "    }\n",
       "</style>\n",
       "<table border=\"1\" class=\"dataframe\">\n",
       "  <thead>\n",
       "    <tr style=\"text-align: right;\">\n",
       "      <th></th>\n",
       "      <th>0</th>\n",
       "      <th>1</th>\n",
       "      <th>2</th>\n",
       "    </tr>\n",
       "  </thead>\n",
       "  <tbody>\n",
       "    <tr>\n",
       "      <th>0</th>\n",
       "      <td>0.985566</td>\n",
       "      <td>1.133392</td>\n",
       "      <td>-0.444269</td>\n",
       "    </tr>\n",
       "    <tr>\n",
       "      <th>1</th>\n",
       "      <td>1.950138</td>\n",
       "      <td>1.073213</td>\n",
       "      <td>2.040003</td>\n",
       "    </tr>\n",
       "    <tr>\n",
       "      <th>2</th>\n",
       "      <td>1.763164</td>\n",
       "      <td>-0.745957</td>\n",
       "      <td>0.054781</td>\n",
       "    </tr>\n",
       "    <tr>\n",
       "      <th>3</th>\n",
       "      <td>-0.141420</td>\n",
       "      <td>1.119797</td>\n",
       "      <td>0.114574</td>\n",
       "    </tr>\n",
       "    <tr>\n",
       "      <th>4</th>\n",
       "      <td>2.523980</td>\n",
       "      <td>-1.542934</td>\n",
       "      <td>0.598557</td>\n",
       "    </tr>\n",
       "  </tbody>\n",
       "</table>\n",
       "</div>"
      ],
      "text/plain": [
       "          0         1         2\n",
       "0  0.985566  1.133392 -0.444269\n",
       "1  1.950138  1.073213  2.040003\n",
       "2  1.763164 -0.745957  0.054781\n",
       "3 -0.141420  1.119797  0.114574\n",
       "4  2.523980 -1.542934  0.598557"
      ]
     },
     "execution_count": 167,
     "metadata": {},
     "output_type": "execute_result"
    }
   ],
   "source": [
    "pca_df = pd.DataFrame(X_std_trans[:,0:3], index = df.index)\n",
    "pca_df.head()"
   ]
  },
  {
   "cell_type": "code",
   "execution_count": 178,
   "id": "2b47db29",
   "metadata": {},
   "outputs": [],
   "source": [
    "#X_std_trans"
   ]
  },
  {
   "cell_type": "markdown",
   "id": "c2f62688",
   "metadata": {},
   "source": [
    "# K means"
   ]
  },
  {
   "cell_type": "code",
   "execution_count": 187,
   "id": "d13402d2",
   "metadata": {},
   "outputs": [],
   "source": [
    "from sklearn.cluster import KMeans"
   ]
  },
  {
   "cell_type": "code",
   "execution_count": 185,
   "id": "837e8272",
   "metadata": {},
   "outputs": [
    {
     "name": "stdout",
     "output_type": "stream",
     "text": [
      "[355807.8215999999, 96399.02814449911, 47964.26535714284, 34728.62935714285, 24417.023523809527, 18768.00066666666, 15606.797749999998, 13436.82553174603, 12424.501309523806, 10250.311785714282]\n"
     ]
    }
   ],
   "source": [
    "inertia = []\n",
    "\n",
    "for k in range(1, 11): #maximum K value is 10\n",
    "    kmeans = KMeans(n_clusters=k)\n",
    "    kmeans.fit(df_pca)  \n",
    "    x = kmeans.inertia_\n",
    "    inertia.append(x)\n",
    "\n",
    "print(inertia)\n"
   ]
  },
  {
   "cell_type": "code",
   "execution_count": 188,
   "id": "49e127c1",
   "metadata": {},
   "outputs": [
    {
     "data": {
      "image/png": "[encoded data removed]",
      "text/plain": [
       "<Figure size 640x480 with 1 Axes>"
      ]
     },
     "metadata": {},
     "output_type": "display_data"
    }
   ],
   "source": [
    "plt.plot(range(1,11), inertia, marker='o')\n",
    "plt.xlabel('K')\n",
    "plt.ylabel('Inertia')\n",
    "plt.title('Elbow method')\n",
    "plt.show()"
   ]
  },
  {
   "cell_type": "code",
   "execution_count": 186,
   "id": "d0e8a201",
   "metadata": {},
   "outputs": [
    {
     "name": "stderr",
     "output_type": "stream",
     "text": [
      "No artists with labels found to put in legend.  Note that artists whose label start with an underscore are ignored when legend() is called with no argument.\n"
     ]
    },
    {
     "data": {
      "image/png": "[encoded data removed]",
      "text/plain": [
       "<Figure size 640x480 with 1 Axes>"
      ]
     },
     "metadata": {},
     "output_type": "display_data"
    }
   ],
   "source": [
    "# We extract the first two components\n",
    "x = X_std_trans[:,0]\n",
    "y = X_std_trans[:,1]\n",
    "\n",
    "# Fit k-means\n",
    "k=3\n",
    "kmeans = KMeans(n_clusters=k, init='k-means++', random_state=42)\n",
    "cluster_labels = kmeans.fit_predict(pca_df)\n",
    "cent = kmeans.cluster_centers_\n",
    "\n",
    "\n",
    "\n",
    "# Plot clusters\n",
    "fig, ax = plt.subplots()\n",
    "colours = 'rbgy'\n",
    "for i in range(0,k):\n",
    "    ax.scatter(x[cluster_labels == i],y[cluster_labels == i],c = colours[i]) \n",
    "\n",
    "for i in range(0,len(x)):\n",
    "        txt = countries[i]\n",
    "        ax.annotate(txt, (x[i], y[i]))\n",
    "ax.set_title(\"K-Means cluster plot\")\n",
    "ax.set_xlabel(\"Dim 2\")\n",
    "ax.set_ylabel(\"Dim 1\")\n",
    "ax.legend();"
   ]
  },
  {
   "cell_type": "code",
   "execution_count": 181,
   "id": "fea2b718",
   "metadata": {},
   "outputs": [],
   "source": [
    "# Groups - translate to readable names\n",
    "City = df.index\n",
    "\n",
    "clusters = pd.DataFrame()\n"
   ]
  },
  {
   "cell_type": "code",
   "execution_count": 182,
   "id": "8afada87",
   "metadata": {},
   "outputs": [
    {
     "name": "stdout",
     "output_type": "stream",
     "text": [
      "Group 0: ['Arkansas', 'Connecticut', 'Delaware', 'Hawaii', 'Indiana', 'Kansas', 'Kentucky', 'Massachusetts', 'Nebraska', 'New Jersey', 'Ohio', 'Oklahoma', 'Oregon', 'Pennsylvania', 'Rhode Island', 'Utah', 'Virginia', 'Washington', 'Wyoming']\n",
      "\n",
      "\n",
      "Group 1: ['Alabama', 'Alaska', 'Arizona', 'California', 'Colorado', 'Florida', 'Georgia', 'Illinois', 'Louisiana', 'Maryland', 'Michigan', 'Mississippi', 'Missouri', 'Nevada', 'New Mexico', 'New York', 'North Carolina', 'South Carolina', 'Tennessee', 'Texas']\n",
      "\n",
      "\n",
      "Group 2: ['Idaho', 'Iowa', 'Maine', 'Minnesota', 'Montana', 'New Hampshire', 'North Dakota', 'South Dakota', 'Vermont', 'West Virginia', 'Wisconsin']\n",
      "\n",
      "\n"
     ]
    }
   ],
   "source": [
    "group0_indices = np.argwhere(cluster_labels==0).transpose()[0]\n",
    "group1_indices = np.argwhere(cluster_labels==1).transpose()[0]\n",
    "group2_indices = np.argwhere(cluster_labels==2).transpose()[0]\n",
    "\n",
    "group0 = np.array(City)[group0_indices]\n",
    "group1 = np.array(City)[group1_indices]\n",
    "group2 = np.array(City)[group2_indices]\n",
    "\n",
    "\n",
    "print(\"Group 0: {}\\n\\n\".format([df.loc[x][\"City\"] for x in group0]))\n",
    "print(\"Group 1: {}\\n\\n\".format([df.loc[x][\"City\"] for x in group1]))\n",
    "print(\"Group 2: {}\\n\\n\".format([df.loc[x][\"City\"] for x in group2]))"
   ]
  },
  {
   "cell_type": "code",
   "execution_count": 189,
   "id": "a662da6c",
   "metadata": {},
   "outputs": [
    {
     "data": {
      "text/html": [
       "<div>\n",
       "<style scoped>\n",
       "    .dataframe tbody tr th:only-of-type {\n",
       "        vertical-align: middle;\n",
       "    }\n",
       "\n",
       "    .dataframe tbody tr th {\n",
       "        vertical-align: top;\n",
       "    }\n",
       "\n",
       "    .dataframe thead th {\n",
       "        text-align: right;\n",
       "    }\n",
       "</style>\n",
       "<table border=\"1\" class=\"dataframe\">\n",
       "  <thead>\n",
       "    <tr style=\"text-align: right;\">\n",
       "      <th></th>\n",
       "      <th>0</th>\n",
       "      <th>1</th>\n",
       "      <th>2</th>\n",
       "    </tr>\n",
       "  </thead>\n",
       "  <tbody>\n",
       "    <tr>\n",
       "      <th>0</th>\n",
       "      <td>0.985566</td>\n",
       "      <td>1.133392</td>\n",
       "      <td>-0.444269</td>\n",
       "    </tr>\n",
       "    <tr>\n",
       "      <th>1</th>\n",
       "      <td>1.950138</td>\n",
       "      <td>1.073213</td>\n",
       "      <td>2.040003</td>\n",
       "    </tr>\n",
       "    <tr>\n",
       "      <th>2</th>\n",
       "      <td>1.763164</td>\n",
       "      <td>-0.745957</td>\n",
       "      <td>0.054781</td>\n",
       "    </tr>\n",
       "    <tr>\n",
       "      <th>3</th>\n",
       "      <td>-0.141420</td>\n",
       "      <td>1.119797</td>\n",
       "      <td>0.114574</td>\n",
       "    </tr>\n",
       "    <tr>\n",
       "      <th>4</th>\n",
       "      <td>2.523980</td>\n",
       "      <td>-1.542934</td>\n",
       "      <td>0.598557</td>\n",
       "    </tr>\n",
       "  </tbody>\n",
       "</table>\n",
       "</div>"
      ],
      "text/plain": [
       "          0         1         2\n",
       "0  0.985566  1.133392 -0.444269\n",
       "1  1.950138  1.073213  2.040003\n",
       "2  1.763164 -0.745957  0.054781\n",
       "3 -0.141420  1.119797  0.114574\n",
       "4  2.523980 -1.542934  0.598557"
      ]
     },
     "execution_count": 189,
     "metadata": {},
     "output_type": "execute_result"
    }
   ],
   "source": [
    "# Fit the PCA with standandized data 3.\n",
    "pca = PCA(n_components=3)\n",
    "\n",
    "# obtain components\n",
    "principal_components = pca.fit_transform(X_std)\n",
    "\n",
    "# Change components into a dataframe\n",
    "pca_df = pd.DataFrame(principal_components) #, columns = ['PC1', 'PC2', 'PC3']\n",
    "pca_df.head()"
   ]
  },
  {
   "cell_type": "code",
   "execution_count": 190,
   "id": "a75431d0",
   "metadata": {},
   "outputs": [
    {
     "data": {
      "image/png": "[encoded data removed]",
      "text/plain": [
       "<Figure size 1500x500 with 1 Axes>"
      ]
     },
     "metadata": {},
     "output_type": "display_data"
    }
   ],
   "source": [
    "plt.figure(figsize=(15,5))\n",
    "\n",
    "# Scatter plots for predictions equaling to zero\n",
    "plt.scatter(pca_df[pred == 0][1], pca_df[pred == 0][0], c = \"r\", label = 'Cluster {}'.format(0))\n",
    "plt.scatter(kmeans.cluster_centers_[0, 1], kmeans.cluster_centers_[0, 0], marker='x', c = 'black')\n",
    "\n",
    "# Scatter plots for predictions equaling to 1\n",
    "plt.scatter(pca_df[pred == 1][0], pca_df[pred == 1][2], c = \"b\", label = 'Cluster {}'.format(1))\n",
    "plt.scatter(kmeans.cluster_centers_[1, 0], kmeans.cluster_centers_[1, 2], marker='x', c = 'black')\n",
    "\n",
    "# Scatter plots for predictions equaling to 2\n",
    "plt.scatter(pca_df[pred == 2][1], pca_df[pred == 2][2], c = \"y\", label = 'Cluster {}'.format(2))\n",
    "plt.scatter(kmeans.cluster_centers_[2, 1], kmeans.cluster_centers_[2, 2], marker='x', c = 'black')\n",
    "score = round(silhouette_score(pca_df, kmeans.labels_, metric='euclidean'),2)\n",
    "plt.title('silhouette={}'.format(score), loc='right', fontdict={'fontsize': 16}, pad=-14)\n",
    "plt.legend();"
   ]
  },
  {
   "cell_type": "markdown",
   "id": "00737c30",
   "metadata": {},
   "source": [
    "For KMeans, the silhouette score is 0.34. Let us compare it with the silhouette score of Agglomerative clustering and see if it is better."
   ]
  },
  {
   "cell_type": "code",
   "execution_count": null,
   "id": "c46682f6",
   "metadata": {},
   "outputs": [],
   "source": []
  },
  {
   "cell_type": "markdown",
   "id": "1a8f84a8",
   "metadata": {},
   "source": [
    "# Agglomerative clustering"
   ]
  },
  {
   "cell_type": "code",
   "execution_count": 58,
   "id": "39baf8c5",
   "metadata": {},
   "outputs": [],
   "source": [
    "import scipy\n",
    "from sklearn.cluster import AgglomerativeClustering\n",
    "from scipy.cluster.hierarchy import dendrogram, linkage"
   ]
  },
  {
   "cell_type": "code",
   "execution_count": 59,
   "id": "30137aaf",
   "metadata": {},
   "outputs": [
    {
     "data": {
      "image/png": "[encoded data removed]",
      "text/plain": [
       "<Figure size 640x480 with 1 Axes>"
      ]
     },
     "metadata": {},
     "output_type": "display_data"
    }
   ],
   "source": [
    "scipy.spatial.distance.pdist(pca_df, metric='euclidean')\n",
    "plt.title(\"Complete linkage based Dendrograms\")  \n",
    "dend = dendrogram(linkage(pca_df, method='complete'))"
   ]
  },
  {
   "cell_type": "code",
   "execution_count": 60,
   "id": "fedc4760",
   "metadata": {},
   "outputs": [
    {
     "data": {
      "image/png": "[encoded data removed]",
      "text/plain": [
       "<Figure size 640x480 with 1 Axes>"
      ]
     },
     "metadata": {},
     "output_type": "display_data"
    }
   ],
   "source": [
    "scipy.spatial.distance.pdist(pca_df, metric='euclidean')\n",
    "plt.title(\"Average linkage based Dendrograms\")  \n",
    "dend = dendrogram(linkage(pca_df, method='average'))"
   ]
  },
  {
   "cell_type": "code",
   "execution_count": 61,
   "id": "dc44d4fc",
   "metadata": {},
   "outputs": [
    {
     "data": {
      "image/png": "[encoded data removed]",
      "text/plain": [
       "<Figure size 640x480 with 1 Axes>"
      ]
     },
     "metadata": {},
     "output_type": "display_data"
    }
   ],
   "source": [
    "scipy.spatial.distance.pdist(pca_df, metric='euclidean')\n",
    "plt.title(\"Single linkage based Dendrograms\")  \n",
    "dend = dendrogram(linkage(pca_df, method='single'))"
   ]
  },
  {
   "cell_type": "markdown",
   "id": "70a78ce7",
   "metadata": {},
   "source": [
    "The most balanced dendrogram among these three seems to be the one with complete linkage. Working with that dendrogram, we get n_cluster = 4."
   ]
  },
  {
   "cell_type": "code",
   "execution_count": 62,
   "id": "6fae6f07",
   "metadata": {},
   "outputs": [
    {
     "data": {
      "text/plain": [
       "array([1, 1, 1, 2, 1, 2, 0, 1, 3, 2, 0, 0, 1, 0, 0, 0, 0, 1, 0, 1, 2, 1,\n",
       "       0, 1, 2, 0, 0, 1, 0, 2, 1, 1, 3, 0, 0, 2, 2, 0, 2, 1, 0, 2, 2, 0,\n",
       "       0, 2, 2, 0, 0, 2])"
      ]
     },
     "execution_count": 62,
     "metadata": {},
     "output_type": "execute_result"
    }
   ],
   "source": [
    "cluster = AgglomerativeClustering(n_clusters=4, affinity='euclidean', linkage='complete')\n",
    "pred = cluster.fit_predict(pca_df)\n",
    "pred"
   ]
  },
  {
   "cell_type": "code",
   "execution_count": 183,
   "id": "abd18857",
   "metadata": {},
   "outputs": [],
   "source": [
    "df['cluster labels'] = pred"
   ]
  },
  {
   "cell_type": "code",
   "execution_count": 184,
   "id": "ba348089",
   "metadata": {},
   "outputs": [
    {
     "data": {
      "text/html": [
       "<div>\n",
       "<style scoped>\n",
       "    .dataframe tbody tr th:only-of-type {\n",
       "        vertical-align: middle;\n",
       "    }\n",
       "\n",
       "    .dataframe tbody tr th {\n",
       "        vertical-align: top;\n",
       "    }\n",
       "\n",
       "    .dataframe thead th {\n",
       "        text-align: right;\n",
       "    }\n",
       "</style>\n",
       "<table border=\"1\" class=\"dataframe\">\n",
       "  <thead>\n",
       "    <tr style=\"text-align: right;\">\n",
       "      <th></th>\n",
       "      <th>City</th>\n",
       "      <th>cluster labels</th>\n",
       "    </tr>\n",
       "  </thead>\n",
       "  <tbody>\n",
       "    <tr>\n",
       "      <th>0</th>\n",
       "      <td>Alabama</td>\n",
       "      <td>2</td>\n",
       "    </tr>\n",
       "    <tr>\n",
       "      <th>1</th>\n",
       "      <td>Alaska</td>\n",
       "      <td>2</td>\n",
       "    </tr>\n",
       "    <tr>\n",
       "      <th>2</th>\n",
       "      <td>Arizona</td>\n",
       "      <td>2</td>\n",
       "    </tr>\n",
       "    <tr>\n",
       "      <th>3</th>\n",
       "      <td>Arkansas</td>\n",
       "      <td>0</td>\n",
       "    </tr>\n",
       "    <tr>\n",
       "      <th>4</th>\n",
       "      <td>California</td>\n",
       "      <td>2</td>\n",
       "    </tr>\n",
       "    <tr>\n",
       "      <th>5</th>\n",
       "      <td>Colorado</td>\n",
       "      <td>0</td>\n",
       "    </tr>\n",
       "    <tr>\n",
       "      <th>6</th>\n",
       "      <td>Connecticut</td>\n",
       "      <td>1</td>\n",
       "    </tr>\n",
       "    <tr>\n",
       "      <th>7</th>\n",
       "      <td>Delaware</td>\n",
       "      <td>2</td>\n",
       "    </tr>\n",
       "    <tr>\n",
       "      <th>8</th>\n",
       "      <td>Florida</td>\n",
       "      <td>2</td>\n",
       "    </tr>\n",
       "    <tr>\n",
       "      <th>9</th>\n",
       "      <td>Georgia</td>\n",
       "      <td>0</td>\n",
       "    </tr>\n",
       "    <tr>\n",
       "      <th>10</th>\n",
       "      <td>Hawaii</td>\n",
       "      <td>1</td>\n",
       "    </tr>\n",
       "    <tr>\n",
       "      <th>11</th>\n",
       "      <td>Idaho</td>\n",
       "      <td>1</td>\n",
       "    </tr>\n",
       "    <tr>\n",
       "      <th>12</th>\n",
       "      <td>Illinois</td>\n",
       "      <td>2</td>\n",
       "    </tr>\n",
       "    <tr>\n",
       "      <th>13</th>\n",
       "      <td>Indiana</td>\n",
       "      <td>1</td>\n",
       "    </tr>\n",
       "    <tr>\n",
       "      <th>14</th>\n",
       "      <td>Iowa</td>\n",
       "      <td>1</td>\n",
       "    </tr>\n",
       "    <tr>\n",
       "      <th>15</th>\n",
       "      <td>Kansas</td>\n",
       "      <td>1</td>\n",
       "    </tr>\n",
       "    <tr>\n",
       "      <th>16</th>\n",
       "      <td>Kentucky</td>\n",
       "      <td>1</td>\n",
       "    </tr>\n",
       "    <tr>\n",
       "      <th>17</th>\n",
       "      <td>Louisiana</td>\n",
       "      <td>2</td>\n",
       "    </tr>\n",
       "    <tr>\n",
       "      <th>18</th>\n",
       "      <td>Maine</td>\n",
       "      <td>1</td>\n",
       "    </tr>\n",
       "    <tr>\n",
       "      <th>19</th>\n",
       "      <td>Maryland</td>\n",
       "      <td>2</td>\n",
       "    </tr>\n",
       "    <tr>\n",
       "      <th>20</th>\n",
       "      <td>Massachusetts</td>\n",
       "      <td>0</td>\n",
       "    </tr>\n",
       "    <tr>\n",
       "      <th>21</th>\n",
       "      <td>Michigan</td>\n",
       "      <td>2</td>\n",
       "    </tr>\n",
       "    <tr>\n",
       "      <th>22</th>\n",
       "      <td>Minnesota</td>\n",
       "      <td>1</td>\n",
       "    </tr>\n",
       "    <tr>\n",
       "      <th>23</th>\n",
       "      <td>Mississippi</td>\n",
       "      <td>2</td>\n",
       "    </tr>\n",
       "    <tr>\n",
       "      <th>24</th>\n",
       "      <td>Missouri</td>\n",
       "      <td>0</td>\n",
       "    </tr>\n",
       "    <tr>\n",
       "      <th>25</th>\n",
       "      <td>Montana</td>\n",
       "      <td>1</td>\n",
       "    </tr>\n",
       "    <tr>\n",
       "      <th>26</th>\n",
       "      <td>Nebraska</td>\n",
       "      <td>1</td>\n",
       "    </tr>\n",
       "    <tr>\n",
       "      <th>27</th>\n",
       "      <td>Nevada</td>\n",
       "      <td>2</td>\n",
       "    </tr>\n",
       "    <tr>\n",
       "      <th>28</th>\n",
       "      <td>New Hampshire</td>\n",
       "      <td>1</td>\n",
       "    </tr>\n",
       "    <tr>\n",
       "      <th>29</th>\n",
       "      <td>New Jersey</td>\n",
       "      <td>0</td>\n",
       "    </tr>\n",
       "    <tr>\n",
       "      <th>30</th>\n",
       "      <td>New Mexico</td>\n",
       "      <td>2</td>\n",
       "    </tr>\n",
       "    <tr>\n",
       "      <th>31</th>\n",
       "      <td>New York</td>\n",
       "      <td>2</td>\n",
       "    </tr>\n",
       "    <tr>\n",
       "      <th>32</th>\n",
       "      <td>North Carolina</td>\n",
       "      <td>2</td>\n",
       "    </tr>\n",
       "    <tr>\n",
       "      <th>33</th>\n",
       "      <td>North Dakota</td>\n",
       "      <td>1</td>\n",
       "    </tr>\n",
       "    <tr>\n",
       "      <th>34</th>\n",
       "      <td>Ohio</td>\n",
       "      <td>1</td>\n",
       "    </tr>\n",
       "    <tr>\n",
       "      <th>35</th>\n",
       "      <td>Oklahoma</td>\n",
       "      <td>0</td>\n",
       "    </tr>\n",
       "    <tr>\n",
       "      <th>36</th>\n",
       "      <td>Oregon</td>\n",
       "      <td>0</td>\n",
       "    </tr>\n",
       "    <tr>\n",
       "      <th>37</th>\n",
       "      <td>Pennsylvania</td>\n",
       "      <td>1</td>\n",
       "    </tr>\n",
       "    <tr>\n",
       "      <th>38</th>\n",
       "      <td>Rhode Island</td>\n",
       "      <td>0</td>\n",
       "    </tr>\n",
       "    <tr>\n",
       "      <th>39</th>\n",
       "      <td>South Carolina</td>\n",
       "      <td>2</td>\n",
       "    </tr>\n",
       "    <tr>\n",
       "      <th>40</th>\n",
       "      <td>South Dakota</td>\n",
       "      <td>1</td>\n",
       "    </tr>\n",
       "    <tr>\n",
       "      <th>41</th>\n",
       "      <td>Tennessee</td>\n",
       "      <td>0</td>\n",
       "    </tr>\n",
       "    <tr>\n",
       "      <th>42</th>\n",
       "      <td>Texas</td>\n",
       "      <td>0</td>\n",
       "    </tr>\n",
       "    <tr>\n",
       "      <th>43</th>\n",
       "      <td>Utah</td>\n",
       "      <td>1</td>\n",
       "    </tr>\n",
       "    <tr>\n",
       "      <th>44</th>\n",
       "      <td>Vermont</td>\n",
       "      <td>1</td>\n",
       "    </tr>\n",
       "    <tr>\n",
       "      <th>45</th>\n",
       "      <td>Virginia</td>\n",
       "      <td>0</td>\n",
       "    </tr>\n",
       "    <tr>\n",
       "      <th>46</th>\n",
       "      <td>Washington</td>\n",
       "      <td>0</td>\n",
       "    </tr>\n",
       "    <tr>\n",
       "      <th>47</th>\n",
       "      <td>West Virginia</td>\n",
       "      <td>1</td>\n",
       "    </tr>\n",
       "    <tr>\n",
       "      <th>48</th>\n",
       "      <td>Wisconsin</td>\n",
       "      <td>1</td>\n",
       "    </tr>\n",
       "    <tr>\n",
       "      <th>49</th>\n",
       "      <td>Wyoming</td>\n",
       "      <td>0</td>\n",
       "    </tr>\n",
       "  </tbody>\n",
       "</table>\n",
       "</div>"
      ],
      "text/plain": [
       "              City  cluster labels\n",
       "0          Alabama               2\n",
       "1           Alaska               2\n",
       "2          Arizona               2\n",
       "3         Arkansas               0\n",
       "4       California               2\n",
       "5         Colorado               0\n",
       "6      Connecticut               1\n",
       "7         Delaware               2\n",
       "8          Florida               2\n",
       "9          Georgia               0\n",
       "10          Hawaii               1\n",
       "11           Idaho               1\n",
       "12        Illinois               2\n",
       "13         Indiana               1\n",
       "14            Iowa               1\n",
       "15          Kansas               1\n",
       "16        Kentucky               1\n",
       "17       Louisiana               2\n",
       "18           Maine               1\n",
       "19        Maryland               2\n",
       "20   Massachusetts               0\n",
       "21        Michigan               2\n",
       "22       Minnesota               1\n",
       "23     Mississippi               2\n",
       "24        Missouri               0\n",
       "25         Montana               1\n",
       "26        Nebraska               1\n",
       "27          Nevada               2\n",
       "28   New Hampshire               1\n",
       "29      New Jersey               0\n",
       "30      New Mexico               2\n",
       "31        New York               2\n",
       "32  North Carolina               2\n",
       "33    North Dakota               1\n",
       "34            Ohio               1\n",
       "35        Oklahoma               0\n",
       "36          Oregon               0\n",
       "37    Pennsylvania               1\n",
       "38    Rhode Island               0\n",
       "39  South Carolina               2\n",
       "40    South Dakota               1\n",
       "41       Tennessee               0\n",
       "42           Texas               0\n",
       "43            Utah               1\n",
       "44         Vermont               1\n",
       "45        Virginia               0\n",
       "46      Washington               0\n",
       "47   West Virginia               1\n",
       "48       Wisconsin               1\n",
       "49         Wyoming               0"
      ]
     },
     "execution_count": 184,
     "metadata": {},
     "output_type": "execute_result"
    }
   ],
   "source": [
    "df[['City', 'cluster labels']]"
   ]
  },
  {
   "cell_type": "code",
   "execution_count": 65,
   "id": "3aee3e34",
   "metadata": {},
   "outputs": [
    {
     "data": {
      "text/plain": [
       "0.5"
      ]
     },
     "execution_count": 65,
     "metadata": {},
     "output_type": "execute_result"
    }
   ],
   "source": [
    "from sklearn.metrics import silhouette_score\n",
    "score = round(silhouette_score(pca_df, pred, metric='euclidean'),2)\n",
    "score"
   ]
  },
  {
   "cell_type": "markdown",
   "id": "a52ee256",
   "metadata": {},
   "source": [
    "The silhouette score in agglomerative clustering is better, so this may be a better model than K Means for this data set."
   ]
  },
  {
   "cell_type": "code",
   "execution_count": null,
   "id": "06b6f8a8",
   "metadata": {},
   "outputs": [],
   "source": []
  }
 ],
 "metadata": {
  "kernelspec": {
   "display_name": "Python 3 (ipykernel)",
   "language": "python",
   "name": "python3"
  },
  "language_info": {
   "codemirror_mode": {
    "name": "ipython",
    "version": 3
   },
   "file_extension": ".py",
   "mimetype": "text/x-python",
   "name": "python",
   "nbconvert_exporter": "python",
   "pygments_lexer": "ipython3",
   "version": "3.9.15"
  }
 },
 "nbformat": 4,
 "nbformat_minor": 5
}
